{
 "cells": [
  {
   "cell_type": "markdown",
   "id": "1d707cfa",
   "metadata": {},
   "source": [
    "### load the dataset"
   ]
  },
  {
   "cell_type": "code",
   "execution_count": 74,
   "id": "585cc990",
   "metadata": {},
   "outputs": [],
   "source": [
    "import pandas as pd\n",
    "import numpy as np\n",
    "import seaborn as sns\n",
    "import plotly.express as px\n",
    "import matplotlib.pyplot as plt\n",
    "import cufflinks as cf\n",
    "import plotly.graph_objs as go"
   ]
  },
  {
   "cell_type": "code",
   "execution_count": 3,
   "id": "40d23256",
   "metadata": {},
   "outputs": [
    {
     "data": {
      "text/html": [
       "        <script type=\"text/javascript\">\n",
       "        window.PlotlyConfig = {MathJaxConfig: 'local'};\n",
       "        if (window.MathJax && window.MathJax.Hub && window.MathJax.Hub.Config) {window.MathJax.Hub.Config({SVG: {font: \"STIX-Web\"}});}\n",
       "        if (typeof require !== 'undefined') {\n",
       "        require.undef(\"plotly\");\n",
       "        requirejs.config({\n",
       "            paths: {\n",
       "                'plotly': ['https://cdn.plot.ly/plotly-2.14.0.min']\n",
       "            }\n",
       "        });\n",
       "        require(['plotly'], function(Plotly) {\n",
       "            window._Plotly = Plotly;\n",
       "        });\n",
       "        }\n",
       "        </script>\n",
       "        "
      ]
     },
     "metadata": {},
     "output_type": "display_data"
    }
   ],
   "source": [
    "cf.go_offline()"
   ]
  },
  {
   "cell_type": "code",
   "execution_count": 7,
   "id": "6c313f69",
   "metadata": {},
   "outputs": [],
   "source": [
    "train = pd.read_csv('training_data.csv', low_memory=False)"
   ]
  },
  {
   "cell_type": "code",
   "execution_count": 13,
   "id": "2cc1ebb6",
   "metadata": {},
   "outputs": [
    {
     "data": {
      "text/html": [
       "<div>\n",
       "<style scoped>\n",
       "    .dataframe tbody tr th:only-of-type {\n",
       "        vertical-align: middle;\n",
       "    }\n",
       "\n",
       "    .dataframe tbody tr th {\n",
       "        vertical-align: top;\n",
       "    }\n",
       "\n",
       "    .dataframe thead th {\n",
       "        text-align: right;\n",
       "    }\n",
       "</style>\n",
       "<table border=\"1\" class=\"dataframe\">\n",
       "  <thead>\n",
       "    <tr style=\"text-align: right;\">\n",
       "      <th></th>\n",
       "      <th>text</th>\n",
       "      <th>reply_to_screen_name</th>\n",
       "      <th>is_quote</th>\n",
       "      <th>is_retweet</th>\n",
       "      <th>hashtags</th>\n",
       "      <th>country</th>\n",
       "    </tr>\n",
       "  </thead>\n",
       "  <tbody>\n",
       "    <tr>\n",
       "      <th>0</th>\n",
       "      <td>Remember the #WuhanCoronaVirus? The pandemic w...</td>\n",
       "      <td>NaN</td>\n",
       "      <td>FALSE</td>\n",
       "      <td>TRUE</td>\n",
       "      <td>WuhanCoronaVirus KillerCuomo</td>\n",
       "      <td>us</td>\n",
       "    </tr>\n",
       "    <tr>\n",
       "      <th>1</th>\n",
       "      <td>My sources @WhiteHouse say 2 tactics will be u...</td>\n",
       "      <td>NaN</td>\n",
       "      <td>FALSE</td>\n",
       "      <td>TRUE</td>\n",
       "      <td>Trump</td>\n",
       "      <td>us</td>\n",
       "    </tr>\n",
       "    <tr>\n",
       "      <th>2</th>\n",
       "      <td>I'll venture a wild guess: If you were running...</td>\n",
       "      <td>NaN</td>\n",
       "      <td>FALSE</td>\n",
       "      <td>TRUE</td>\n",
       "      <td>COVID19</td>\n",
       "      <td>us</td>\n",
       "    </tr>\n",
       "    <tr>\n",
       "      <th>3</th>\n",
       "      <td>#Pakistan (#GreenStimulus = #Nature protection...</td>\n",
       "      <td>NaN</td>\n",
       "      <td>FALSE</td>\n",
       "      <td>TRUE</td>\n",
       "      <td>Pakistan GreenStimulus Nature Green</td>\n",
       "      <td>us</td>\n",
       "    </tr>\n",
       "    <tr>\n",
       "      <th>4</th>\n",
       "      <td>🇺🇸 Pandémie de #coronavirus: 30 pasteurs améri...</td>\n",
       "      <td>NaN</td>\n",
       "      <td>FALSE</td>\n",
       "      <td>TRUE</td>\n",
       "      <td>coronavirus COVID__19 COVIDー19</td>\n",
       "      <td>us</td>\n",
       "    </tr>\n",
       "    <tr>\n",
       "      <th>...</th>\n",
       "      <td>...</td>\n",
       "      <td>...</td>\n",
       "      <td>...</td>\n",
       "      <td>...</td>\n",
       "      <td>...</td>\n",
       "      <td>...</td>\n",
       "    </tr>\n",
       "    <tr>\n",
       "      <th>239995</th>\n",
       "      <td>Aa Likes, Retweets yentra 🙏\\n🔥🔥🔥\\n#Mastеr</td>\n",
       "      <td>NaN</td>\n",
       "      <td>TRUE</td>\n",
       "      <td>TRUE</td>\n",
       "      <td>Mastеr</td>\n",
       "      <td>new_zealand</td>\n",
       "    </tr>\n",
       "    <tr>\n",
       "      <th>239996</th>\n",
       "      <td>Very interesting\\nAny thoughts?\\n\\n#TheFive #T...</td>\n",
       "      <td>NaN</td>\n",
       "      <td>FALSE</td>\n",
       "      <td>TRUE</td>\n",
       "      <td>TheFive Trump2020 KAG2020 mondaythoughts COVID...</td>\n",
       "      <td>new_zealand</td>\n",
       "    </tr>\n",
       "    <tr>\n",
       "      <th>239997</th>\n",
       "      <td>As we deal with #COVID19 don't forget that #Ch...</td>\n",
       "      <td>NaN</td>\n",
       "      <td>TRUE</td>\n",
       "      <td>TRUE</td>\n",
       "      <td>COVID19 Christians persecution Nigeria</td>\n",
       "      <td>new_zealand</td>\n",
       "    </tr>\n",
       "    <tr>\n",
       "      <th>239998</th>\n",
       "      <td>While we hit 150,000 in #COVID19 deaths, the P...</td>\n",
       "      <td>NaN</td>\n",
       "      <td>FALSE</td>\n",
       "      <td>TRUE</td>\n",
       "      <td>COVID19</td>\n",
       "      <td>new_zealand</td>\n",
       "    </tr>\n",
       "    <tr>\n",
       "      <th>239999</th>\n",
       "      <td>This too shall pass #Covid_19 . May remain sta...</td>\n",
       "      <td>NaN</td>\n",
       "      <td>FALSE</td>\n",
       "      <td>TRUE</td>\n",
       "      <td>Covid_19 HopeAlive</td>\n",
       "      <td>new_zealand</td>\n",
       "    </tr>\n",
       "  </tbody>\n",
       "</table>\n",
       "<p>240000 rows × 6 columns</p>\n",
       "</div>"
      ],
      "text/plain": [
       "                                                     text  \\\n",
       "0       Remember the #WuhanCoronaVirus? The pandemic w...   \n",
       "1       My sources @WhiteHouse say 2 tactics will be u...   \n",
       "2       I'll venture a wild guess: If you were running...   \n",
       "3       #Pakistan (#GreenStimulus = #Nature protection...   \n",
       "4       🇺🇸 Pandémie de #coronavirus: 30 pasteurs améri...   \n",
       "...                                                   ...   \n",
       "239995          Aa Likes, Retweets yentra 🙏\\n🔥🔥🔥\\n#Mastеr   \n",
       "239996  Very interesting\\nAny thoughts?\\n\\n#TheFive #T...   \n",
       "239997  As we deal with #COVID19 don't forget that #Ch...   \n",
       "239998  While we hit 150,000 in #COVID19 deaths, the P...   \n",
       "239999  This too shall pass #Covid_19 . May remain sta...   \n",
       "\n",
       "       reply_to_screen_name is_quote is_retweet  \\\n",
       "0                       NaN    FALSE       TRUE   \n",
       "1                       NaN    FALSE       TRUE   \n",
       "2                       NaN    FALSE       TRUE   \n",
       "3                       NaN    FALSE       TRUE   \n",
       "4                       NaN    FALSE       TRUE   \n",
       "...                     ...      ...        ...   \n",
       "239995                  NaN     TRUE       TRUE   \n",
       "239996                  NaN    FALSE       TRUE   \n",
       "239997                  NaN     TRUE       TRUE   \n",
       "239998                  NaN    FALSE       TRUE   \n",
       "239999                  NaN    FALSE       TRUE   \n",
       "\n",
       "                                                 hashtags      country  \n",
       "0                            WuhanCoronaVirus KillerCuomo           us  \n",
       "1                                                   Trump           us  \n",
       "2                                                 COVID19           us  \n",
       "3                     Pakistan GreenStimulus Nature Green           us  \n",
       "4                          coronavirus COVID__19 COVIDー19           us  \n",
       "...                                                   ...          ...  \n",
       "239995                                             Mastеr  new_zealand  \n",
       "239996  TheFive Trump2020 KAG2020 mondaythoughts COVID...  new_zealand  \n",
       "239997             COVID19 Christians persecution Nigeria  new_zealand  \n",
       "239998                                            COVID19  new_zealand  \n",
       "239999                                 Covid_19 HopeAlive  new_zealand  \n",
       "\n",
       "[240000 rows x 6 columns]"
      ]
     },
     "execution_count": 13,
     "metadata": {},
     "output_type": "execute_result"
    }
   ],
   "source": [
    "train"
   ]
  },
  {
   "cell_type": "code",
   "execution_count": 14,
   "id": "a9c711be",
   "metadata": {},
   "outputs": [
    {
     "data": {
      "text/plain": [
       "text                         0\n",
       "reply_to_screen_name    227937\n",
       "is_quote                     0\n",
       "is_retweet                   0\n",
       "hashtags                     0\n",
       "country                      0\n",
       "dtype: int64"
      ]
     },
     "execution_count": 14,
     "metadata": {},
     "output_type": "execute_result"
    }
   ],
   "source": [
    "train.isnull().sum() # the reply_to_screen_name column misses too many data points, we can go ahead and drop it"
   ]
  },
  {
   "cell_type": "code",
   "execution_count": 15,
   "id": "3b87d680",
   "metadata": {},
   "outputs": [],
   "source": [
    "train.drop('reply_to_screen_name', axis=1, inplace=True)"
   ]
  },
  {
   "cell_type": "code",
   "execution_count": 18,
   "id": "432d11f4",
   "metadata": {},
   "outputs": [
    {
     "data": {
      "text/html": [
       "<div>\n",
       "<style scoped>\n",
       "    .dataframe tbody tr th:only-of-type {\n",
       "        vertical-align: middle;\n",
       "    }\n",
       "\n",
       "    .dataframe tbody tr th {\n",
       "        vertical-align: top;\n",
       "    }\n",
       "\n",
       "    .dataframe thead th {\n",
       "        text-align: right;\n",
       "    }\n",
       "</style>\n",
       "<table border=\"1\" class=\"dataframe\">\n",
       "  <thead>\n",
       "    <tr style=\"text-align: right;\">\n",
       "      <th></th>\n",
       "      <th>text</th>\n",
       "      <th>is_quote</th>\n",
       "      <th>is_retweet</th>\n",
       "      <th>hashtags</th>\n",
       "      <th>country</th>\n",
       "    </tr>\n",
       "  </thead>\n",
       "  <tbody>\n",
       "    <tr>\n",
       "      <th>0</th>\n",
       "      <td>Remember the #WuhanCoronaVirus? The pandemic w...</td>\n",
       "      <td>FALSE</td>\n",
       "      <td>TRUE</td>\n",
       "      <td>WuhanCoronaVirus KillerCuomo</td>\n",
       "      <td>us</td>\n",
       "    </tr>\n",
       "    <tr>\n",
       "      <th>1</th>\n",
       "      <td>My sources @WhiteHouse say 2 tactics will be u...</td>\n",
       "      <td>FALSE</td>\n",
       "      <td>TRUE</td>\n",
       "      <td>Trump</td>\n",
       "      <td>us</td>\n",
       "    </tr>\n",
       "    <tr>\n",
       "      <th>2</th>\n",
       "      <td>I'll venture a wild guess: If you were running...</td>\n",
       "      <td>FALSE</td>\n",
       "      <td>TRUE</td>\n",
       "      <td>COVID19</td>\n",
       "      <td>us</td>\n",
       "    </tr>\n",
       "    <tr>\n",
       "      <th>3</th>\n",
       "      <td>#Pakistan (#GreenStimulus = #Nature protection...</td>\n",
       "      <td>FALSE</td>\n",
       "      <td>TRUE</td>\n",
       "      <td>Pakistan GreenStimulus Nature Green</td>\n",
       "      <td>us</td>\n",
       "    </tr>\n",
       "    <tr>\n",
       "      <th>4</th>\n",
       "      <td>🇺🇸 Pandémie de #coronavirus: 30 pasteurs améri...</td>\n",
       "      <td>FALSE</td>\n",
       "      <td>TRUE</td>\n",
       "      <td>coronavirus COVID__19 COVIDー19</td>\n",
       "      <td>us</td>\n",
       "    </tr>\n",
       "  </tbody>\n",
       "</table>\n",
       "</div>"
      ],
      "text/plain": [
       "                                                text is_quote is_retweet  \\\n",
       "0  Remember the #WuhanCoronaVirus? The pandemic w...    FALSE       TRUE   \n",
       "1  My sources @WhiteHouse say 2 tactics will be u...    FALSE       TRUE   \n",
       "2  I'll venture a wild guess: If you were running...    FALSE       TRUE   \n",
       "3  #Pakistan (#GreenStimulus = #Nature protection...    FALSE       TRUE   \n",
       "4  🇺🇸 Pandémie de #coronavirus: 30 pasteurs améri...    FALSE       TRUE   \n",
       "\n",
       "                              hashtags country  \n",
       "0         WuhanCoronaVirus KillerCuomo      us  \n",
       "1                                Trump      us  \n",
       "2                              COVID19      us  \n",
       "3  Pakistan GreenStimulus Nature Green      us  \n",
       "4       coronavirus COVID__19 COVIDー19      us  "
      ]
     },
     "execution_count": 18,
     "metadata": {},
     "output_type": "execute_result"
    }
   ],
   "source": [
    "train.head()"
   ]
  },
  {
   "cell_type": "code",
   "execution_count": 17,
   "id": "c2a9fcd4",
   "metadata": {},
   "outputs": [
    {
     "data": {
      "text/html": [
       "<div>\n",
       "<style scoped>\n",
       "    .dataframe tbody tr th:only-of-type {\n",
       "        vertical-align: middle;\n",
       "    }\n",
       "\n",
       "    .dataframe tbody tr th {\n",
       "        vertical-align: top;\n",
       "    }\n",
       "\n",
       "    .dataframe thead th {\n",
       "        text-align: right;\n",
       "    }\n",
       "</style>\n",
       "<table border=\"1\" class=\"dataframe\">\n",
       "  <thead>\n",
       "    <tr style=\"text-align: right;\">\n",
       "      <th></th>\n",
       "      <th>text</th>\n",
       "      <th>is_quote</th>\n",
       "      <th>is_retweet</th>\n",
       "      <th>hashtags</th>\n",
       "      <th>country</th>\n",
       "    </tr>\n",
       "  </thead>\n",
       "  <tbody>\n",
       "    <tr>\n",
       "      <th>count</th>\n",
       "      <td>240000</td>\n",
       "      <td>240000</td>\n",
       "      <td>240000</td>\n",
       "      <td>240000</td>\n",
       "      <td>240000</td>\n",
       "    </tr>\n",
       "    <tr>\n",
       "      <th>unique</th>\n",
       "      <td>191448</td>\n",
       "      <td>3</td>\n",
       "      <td>3</td>\n",
       "      <td>80149</td>\n",
       "      <td>6</td>\n",
       "    </tr>\n",
       "    <tr>\n",
       "      <th>top</th>\n",
       "      <td>Amid America's #COVID19 disaster, I must come ...</td>\n",
       "      <td>FALSE</td>\n",
       "      <td>TRUE</td>\n",
       "      <td>COVID19</td>\n",
       "      <td>us</td>\n",
       "    </tr>\n",
       "    <tr>\n",
       "      <th>freq</th>\n",
       "      <td>198</td>\n",
       "      <td>199277</td>\n",
       "      <td>161890</td>\n",
       "      <td>58516</td>\n",
       "      <td>40000</td>\n",
       "    </tr>\n",
       "  </tbody>\n",
       "</table>\n",
       "</div>"
      ],
      "text/plain": [
       "                                                     text is_quote is_retweet  \\\n",
       "count                                              240000   240000     240000   \n",
       "unique                                             191448        3          3   \n",
       "top     Amid America's #COVID19 disaster, I must come ...    FALSE       TRUE   \n",
       "freq                                                  198   199277     161890   \n",
       "\n",
       "       hashtags country  \n",
       "count    240000  240000  \n",
       "unique    80149       6  \n",
       "top     COVID19      us  \n",
       "freq      58516   40000  "
      ]
     },
     "execution_count": 17,
     "metadata": {},
     "output_type": "execute_result"
    }
   ],
   "source": [
    "train.describe()"
   ]
  },
  {
   "cell_type": "code",
   "execution_count": 19,
   "id": "8474b2d4",
   "metadata": {},
   "outputs": [
    {
     "name": "stdout",
     "output_type": "stream",
     "text": [
      "<class 'pandas.core.frame.DataFrame'>\n",
      "RangeIndex: 240000 entries, 0 to 239999\n",
      "Data columns (total 5 columns):\n",
      " #   Column      Non-Null Count   Dtype \n",
      "---  ------      --------------   ----- \n",
      " 0   text        240000 non-null  object\n",
      " 1   is_quote    240000 non-null  object\n",
      " 2   is_retweet  240000 non-null  object\n",
      " 3   hashtags    240000 non-null  object\n",
      " 4   country     240000 non-null  object\n",
      "dtypes: object(5)\n",
      "memory usage: 9.2+ MB\n"
     ]
    }
   ],
   "source": [
    "train.info()"
   ]
  },
  {
   "cell_type": "markdown",
   "id": "6f0b5d90",
   "metadata": {},
   "source": [
    "### EDA"
   ]
  },
  {
   "cell_type": "code",
   "execution_count": 32,
   "id": "7bb26691",
   "metadata": {},
   "outputs": [
    {
     "data": {
      "image/png": "[encoded data removed]",
      "text/plain": [
       "<Figure size 720x432 with 1 Axes>"
      ]
     },
     "metadata": {
      "needs_background": "light"
     },
     "output_type": "display_data"
    }
   ],
   "source": [
    "train['is_quote'].value_counts().plot(kind='bar')\n",
    "ax = plt.gca()\n",
    "for i in ax.containers:\n",
    "    plt.bar_label(i)\n",
    "plt.xticks(rotation=360)\n",
    "fig = plt.gcf()\n",
    "fig.set_size_inches(10,6) # there is one data point that's probably recorded wrong, we can drop it "
   ]
  },
  {
   "cell_type": "code",
   "execution_count": 46,
   "id": "7335960e",
   "metadata": {},
   "outputs": [],
   "source": [
    "train = train[train['is_quote']!= \"Colin o'donoghue\"]"
   ]
  },
  {
   "cell_type": "code",
   "execution_count": 47,
   "id": "17881267",
   "metadata": {},
   "outputs": [
    {
     "data": {
      "image/png": "[encoded data removed]",
      "text/plain": [
       "<Figure size 720x432 with 1 Axes>"
      ]
     },
     "metadata": {
      "needs_background": "light"
     },
     "output_type": "display_data"
    }
   ],
   "source": [
    "train['is_retweet'].value_counts().plot(kind='bar')\n",
    "ax = plt.gca()\n",
    "for i in ax.containers:\n",
    "    plt.bar_label(i)\n",
    "plt.xticks(rotation=360)\n",
    "fig = plt.gcf()\n",
    "fig.set_size_inches(10,6)"
   ]
  },
  {
   "cell_type": "code",
   "execution_count": 247,
   "id": "991da31d",
   "metadata": {},
   "outputs": [
    {
     "data": {
      "application/vnd.plotly.v1+json": {
       "config": {
        "plotlyServerURL": "https://plot.ly"
       },
       "data": [
        {
         "alignmentgroup": "True",
         "hovertemplate": "index=%{y}<br>hashtags=%{text}<extra></extra>",
         "legendgroup": "COVID19",
         "marker": {
          "color": "#636efa",
          "pattern": {
           "shape": ""
          }
         },
         "name": "COVID19",
         "offsetgroup": "COVID19",
         "orientation": "h",
         "showlegend": true,
         "text": [
          58516
         ],
         "textposition": "auto",
         "type": "bar",
         "x": [
          58516
         ],
         "xaxis": "x",
         "y": [
          "COVID19"
         ],
         "yaxis": "y"
        },
        {
         "alignmentgroup": "True",
         "hovertemplate": "index=%{y}<br>hashtags=%{text}<extra></extra>",
         "legendgroup": "coronavirus",
         "marker": {
          "color": "#EF553B",
          "pattern": {
           "shape": ""
          }
         },
         "name": "coronavirus",
         "offsetgroup": "coronavirus",
         "orientation": "h",
         "showlegend": true,
         "text": [
          13002
         ],
         "textposition": "auto",
         "type": "bar",
         "x": [
          13002
         ],
         "xaxis": "x",
         "y": [
          "coronavirus"
         ],
         "yaxis": "y"
        },
        {
         "alignmentgroup": "True",
         "hovertemplate": "index=%{y}<br>hashtags=%{text}<extra></extra>",
         "legendgroup": "Covid19",
         "marker": {
          "color": "#00cc96",
          "pattern": {
           "shape": ""
          }
         },
         "name": "Covid19",
         "offsetgroup": "Covid19",
         "orientation": "h",
         "showlegend": true,
         "text": [
          8020
         ],
         "textposition": "auto",
         "type": "bar",
         "x": [
          8020
         ],
         "xaxis": "x",
         "y": [
          "Covid19"
         ],
         "yaxis": "y"
        },
        {
         "alignmentgroup": "True",
         "hovertemplate": "index=%{y}<br>hashtags=%{text}<extra></extra>",
         "legendgroup": "COVID",
         "marker": {
          "color": "#ab63fa",
          "pattern": {
           "shape": ""
          }
         },
         "name": "COVID",
         "offsetgroup": "COVID",
         "orientation": "h",
         "showlegend": true,
         "text": [
          4649
         ],
         "textposition": "auto",
         "type": "bar",
         "x": [
          4649
         ],
         "xaxis": "x",
         "y": [
          "COVID"
         ],
         "yaxis": "y"
        },
        {
         "alignmentgroup": "True",
         "hovertemplate": "index=%{y}<br>hashtags=%{text}<extra></extra>",
         "legendgroup": "covid19",
         "marker": {
          "color": "#FFA15A",
          "pattern": {
           "shape": ""
          }
         },
         "name": "covid19",
         "offsetgroup": "covid19",
         "orientation": "h",
         "showlegend": true,
         "text": [
          4578
         ],
         "textposition": "auto",
         "type": "bar",
         "x": [
          4578
         ],
         "xaxis": "x",
         "y": [
          "covid19"
         ],
         "yaxis": "y"
        },
        {
         "alignmentgroup": "True",
         "hovertemplate": "index=%{y}<br>hashtags=%{text}<extra></extra>",
         "legendgroup": "Coronavirus",
         "marker": {
          "color": "#19d3f3",
          "pattern": {
           "shape": ""
          }
         },
         "name": "Coronavirus",
         "offsetgroup": "Coronavirus",
         "orientation": "h",
         "showlegend": true,
         "text": [
          3484
         ],
         "textposition": "auto",
         "type": "bar",
         "x": [
          3484
         ],
         "xaxis": "x",
         "y": [
          "Coronavirus"
         ],
         "yaxis": "y"
        },
        {
         "alignmentgroup": "True",
         "hovertemplate": "index=%{y}<br>hashtags=%{text}<extra></extra>",
         "legendgroup": "Covid_19",
         "marker": {
          "color": "#FF6692",
          "pattern": {
           "shape": ""
          }
         },
         "name": "Covid_19",
         "offsetgroup": "Covid_19",
         "orientation": "h",
         "showlegend": true,
         "text": [
          3380
         ],
         "textposition": "auto",
         "type": "bar",
         "x": [
          3380
         ],
         "xaxis": "x",
         "y": [
          "Covid_19"
         ],
         "yaxis": "y"
        },
        {
         "alignmentgroup": "True",
         "hovertemplate": "index=%{y}<br>hashtags=%{text}<extra></extra>",
         "legendgroup": "COVIDー19",
         "marker": {
          "color": "#B6E880",
          "pattern": {
           "shape": ""
          }
         },
         "name": "COVIDー19",
         "offsetgroup": "COVIDー19",
         "orientation": "h",
         "showlegend": true,
         "text": [
          2937
         ],
         "textposition": "auto",
         "type": "bar",
         "x": [
          2937
         ],
         "xaxis": "x",
         "y": [
          "COVIDー19"
         ],
         "yaxis": "y"
        },
        {
         "alignmentgroup": "True",
         "hovertemplate": "index=%{y}<br>hashtags=%{text}<extra></extra>",
         "legendgroup": "Covid",
         "marker": {
          "color": "#FF97FF",
          "pattern": {
           "shape": ""
          }
         },
         "name": "Covid",
         "offsetgroup": "Covid",
         "orientation": "h",
         "showlegend": true,
         "text": [
          1853
         ],
         "textposition": "auto",
         "type": "bar",
         "x": [
          1853
         ],
         "xaxis": "x",
         "y": [
          "Covid"
         ],
         "yaxis": "y"
        },
        {
         "alignmentgroup": "True",
         "hovertemplate": "index=%{y}<br>hashtags=%{text}<extra></extra>",
         "legendgroup": "covid",
         "marker": {
          "color": "#FECB52",
          "pattern": {
           "shape": ""
          }
         },
         "name": "covid",
         "offsetgroup": "covid",
         "orientation": "h",
         "showlegend": true,
         "text": [
          1373
         ],
         "textposition": "auto",
         "type": "bar",
         "x": [
          1373
         ],
         "xaxis": "x",
         "y": [
          "covid"
         ],
         "yaxis": "y"
        },
        {
         "alignmentgroup": "True",
         "hovertemplate": "index=%{y}<br>hashtags=%{text}<extra></extra>",
         "legendgroup": "SARSCoV2",
         "marker": {
          "color": "#636efa",
          "pattern": {
           "shape": ""
          }
         },
         "name": "SARSCoV2",
         "offsetgroup": "SARSCoV2",
         "orientation": "h",
         "showlegend": true,
         "text": [
          1069
         ],
         "textposition": "auto",
         "type": "bar",
         "x": [
          1069
         ],
         "xaxis": "x",
         "y": [
          "SARSCoV2"
         ],
         "yaxis": "y"
        },
        {
         "alignmentgroup": "True",
         "hovertemplate": "index=%{y}<br>hashtags=%{text}<extra></extra>",
         "legendgroup": "COVIDIOTS",
         "marker": {
          "color": "#EF553B",
          "pattern": {
           "shape": ""
          }
         },
         "name": "COVIDIOTS",
         "offsetgroup": "COVIDIOTS",
         "orientation": "h",
         "showlegend": true,
         "text": [
          948
         ],
         "textposition": "auto",
         "type": "bar",
         "x": [
          948
         ],
         "xaxis": "x",
         "y": [
          "COVIDIOTS"
         ],
         "yaxis": "y"
        },
        {
         "alignmentgroup": "True",
         "hovertemplate": "index=%{y}<br>hashtags=%{text}<extra></extra>",
         "legendgroup": "coronavirus COVID19",
         "marker": {
          "color": "#00cc96",
          "pattern": {
           "shape": ""
          }
         },
         "name": "coronavirus COVID19",
         "offsetgroup": "coronavirus COVID19",
         "orientation": "h",
         "showlegend": true,
         "text": [
          815
         ],
         "textposition": "auto",
         "type": "bar",
         "x": [
          815
         ],
         "xaxis": "x",
         "y": [
          "coronavirus COVID19"
         ],
         "yaxis": "y"
        },
        {
         "alignmentgroup": "True",
         "hovertemplate": "index=%{y}<br>hashtags=%{text}<extra></extra>",
         "legendgroup": "pandemic",
         "marker": {
          "color": "#ab63fa",
          "pattern": {
           "shape": ""
          }
         },
         "name": "pandemic",
         "offsetgroup": "pandemic",
         "orientation": "h",
         "showlegend": true,
         "text": [
          783
         ],
         "textposition": "auto",
         "type": "bar",
         "x": [
          783
         ],
         "xaxis": "x",
         "y": [
          "pandemic"
         ],
         "yaxis": "y"
        },
        {
         "alignmentgroup": "True",
         "hovertemplate": "index=%{y}<br>hashtags=%{text}<extra></extra>",
         "legendgroup": "StayHome",
         "marker": {
          "color": "#FFA15A",
          "pattern": {
           "shape": ""
          }
         },
         "name": "StayHome",
         "offsetgroup": "StayHome",
         "orientation": "h",
         "showlegend": true,
         "text": [
          680
         ],
         "textposition": "auto",
         "type": "bar",
         "x": [
          680
         ],
         "xaxis": "x",
         "y": [
          "StayHome"
         ],
         "yaxis": "y"
        },
        {
         "alignmentgroup": "True",
         "hovertemplate": "index=%{y}<br>hashtags=%{text}<extra></extra>",
         "legendgroup": "StaySafe",
         "marker": {
          "color": "#19d3f3",
          "pattern": {
           "shape": ""
          }
         },
         "name": "StaySafe",
         "offsetgroup": "StaySafe",
         "orientation": "h",
         "showlegend": true,
         "text": [
          679
         ],
         "textposition": "auto",
         "type": "bar",
         "x": [
          679
         ],
         "xaxis": "x",
         "y": [
          "StaySafe"
         ],
         "yaxis": "y"
        },
        {
         "alignmentgroup": "True",
         "hovertemplate": "index=%{y}<br>hashtags=%{text}<extra></extra>",
         "legendgroup": "TogetherAtHome",
         "marker": {
          "color": "#FF6692",
          "pattern": {
           "shape": ""
          }
         },
         "name": "TogetherAtHome",
         "offsetgroup": "TogetherAtHome",
         "orientation": "h",
         "showlegend": true,
         "text": [
          605
         ],
         "textposition": "auto",
         "type": "bar",
         "x": [
          605
         ],
         "xaxis": "x",
         "y": [
          "TogetherAtHome"
         ],
         "yaxis": "y"
        },
        {
         "alignmentgroup": "True",
         "hovertemplate": "index=%{y}<br>hashtags=%{text}<extra></extra>",
         "legendgroup": "COVID19 coronavirus",
         "marker": {
          "color": "#B6E880",
          "pattern": {
           "shape": ""
          }
         },
         "name": "COVID19 coronavirus",
         "offsetgroup": "COVID19 coronavirus",
         "orientation": "h",
         "showlegend": true,
         "text": [
          485
         ],
         "textposition": "auto",
         "type": "bar",
         "x": [
          485
         ],
         "xaxis": "x",
         "y": [
          "COVID19 coronavirus"
         ],
         "yaxis": "y"
        },
        {
         "alignmentgroup": "True",
         "hovertemplate": "index=%{y}<br>hashtags=%{text}<extra></extra>",
         "legendgroup": "SocialDistancing",
         "marker": {
          "color": "#FF97FF",
          "pattern": {
           "shape": ""
          }
         },
         "name": "SocialDistancing",
         "offsetgroup": "SocialDistancing",
         "orientation": "h",
         "showlegend": true,
         "text": [
          462
         ],
         "textposition": "auto",
         "type": "bar",
         "x": [
          462
         ],
         "xaxis": "x",
         "y": [
          "SocialDistancing"
         ],
         "yaxis": "y"
        },
        {
         "alignmentgroup": "True",
         "hovertemplate": "index=%{y}<br>hashtags=%{text}<extra></extra>",
         "legendgroup": "CoronaVirus",
         "marker": {
          "color": "#FECB52",
          "pattern": {
           "shape": ""
          }
         },
         "name": "CoronaVirus",
         "offsetgroup": "CoronaVirus",
         "orientation": "h",
         "showlegend": true,
         "text": [
          377
         ],
         "textposition": "auto",
         "type": "bar",
         "x": [
          377
         ],
         "xaxis": "x",
         "y": [
          "CoronaVirus"
         ],
         "yaxis": "y"
        }
       ],
       "layout": {
        "barmode": "relative",
        "legend": {
         "title": {
          "text": "index"
         },
         "tracegroupgap": 0
        },
        "template": {
         "data": {
          "bar": [
           {
            "error_x": {
             "color": "#2a3f5f"
            },
            "error_y": {
             "color": "#2a3f5f"
            },
            "marker": {
             "line": {
              "color": "#E5ECF6",
              "width": 0.5
             },
             "pattern": {
              "fillmode": "overlay",
              "size": 10,
              "solidity": 0.2
             }
            },
            "type": "bar"
           }
          ],
          "barpolar": [
           {
            "marker": {
             "line": {
              "color": "#E5ECF6",
              "width": 0.5
             },
             "pattern": {
              "fillmode": "overlay",
              "size": 10,
              "solidity": 0.2
             }
            },
            "type": "barpolar"
           }
          ],
          "carpet": [
           {
            "aaxis": {
             "endlinecolor": "#2a3f5f",
             "gridcolor": "white",
             "linecolor": "white",
             "minorgridcolor": "white",
             "startlinecolor": "#2a3f5f"
            },
            "baxis": {
             "endlinecolor": "#2a3f5f",
             "gridcolor": "white",
             "linecolor": "white",
             "minorgridcolor": "white",
             "startlinecolor": "#2a3f5f"
            },
            "type": "carpet"
           }
          ],
          "choropleth": [
           {
            "colorbar": {
             "outlinewidth": 0,
             "ticks": ""
            },
            "type": "choropleth"
           }
          ],
          "contour": [
           {
            "colorbar": {
             "outlinewidth": 0,
             "ticks": ""
            },
            "colorscale": [
             [
              0,
              "#0d0887"
             ],
             [
              0.1111111111111111,
              "#46039f"
             ],
             [
              0.2222222222222222,
              "#7201a8"
             ],
             [
              0.3333333333333333,
              "#9c179e"
             ],
             [
              0.4444444444444444,
              "#bd3786"
             ],
             [
              0.5555555555555556,
              "#d8576b"
             ],
             [
              0.6666666666666666,
              "#ed7953"
             ],
             [
              0.7777777777777778,
              "#fb9f3a"
             ],
             [
              0.8888888888888888,
              "#fdca26"
             ],
             [
              1,
              "#f0f921"
             ]
            ],
            "type": "contour"
           }
          ],
          "contourcarpet": [
           {
            "colorbar": {
             "outlinewidth": 0,
             "ticks": ""
            },
            "type": "contourcarpet"
           }
          ],
          "heatmap": [
           {
            "colorbar": {
             "outlinewidth": 0,
             "ticks": ""
            },
            "colorscale": [
             [
              0,
              "#0d0887"
             ],
             [
              0.1111111111111111,
              "#46039f"
             ],
             [
              0.2222222222222222,
              "#7201a8"
             ],
             [
              0.3333333333333333,
              "#9c179e"
             ],
             [
              0.4444444444444444,
              "#bd3786"
             ],
             [
              0.5555555555555556,
              "#d8576b"
             ],
             [
              0.6666666666666666,
              "#ed7953"
             ],
             [
              0.7777777777777778,
              "#fb9f3a"
             ],
             [
              0.8888888888888888,
              "#fdca26"
             ],
             [
              1,
              "#f0f921"
             ]
            ],
            "type": "heatmap"
           }
          ],
          "heatmapgl": [
           {
            "colorbar": {
             "outlinewidth": 0,
             "ticks": ""
            },
            "colorscale": [
             [
              0,
              "#0d0887"
             ],
             [
              0.1111111111111111,
              "#46039f"
             ],
             [
              0.2222222222222222,
              "#7201a8"
             ],
             [
              0.3333333333333333,
              "#9c179e"
             ],
             [
              0.4444444444444444,
              "#bd3786"
             ],
             [
              0.5555555555555556,
              "#d8576b"
             ],
             [
              0.6666666666666666,
              "#ed7953"
             ],
             [
              0.7777777777777778,
              "#fb9f3a"
             ],
             [
              0.8888888888888888,
              "#fdca26"
             ],
             [
              1,
              "#f0f921"
             ]
            ],
            "type": "heatmapgl"
           }
          ],
          "histogram": [
           {
            "marker": {
             "pattern": {
              "fillmode": "overlay",
              "size": 10,
              "solidity": 0.2
             }
            },
            "type": "histogram"
           }
          ],
          "histogram2d": [
           {
            "colorbar": {
             "outlinewidth": 0,
             "ticks": ""
            },
            "colorscale": [
             [
              0,
              "#0d0887"
             ],
             [
              0.1111111111111111,
              "#46039f"
             ],
             [
              0.2222222222222222,
              "#7201a8"
             ],
             [
              0.3333333333333333,
              "#9c179e"
             ],
             [
              0.4444444444444444,
              "#bd3786"
             ],
             [
              0.5555555555555556,
              "#d8576b"
             ],
             [
              0.6666666666666666,
              "#ed7953"
             ],
             [
              0.7777777777777778,
              "#fb9f3a"
             ],
             [
              0.8888888888888888,
              "#fdca26"
             ],
             [
              1,
              "#f0f921"
             ]
            ],
            "type": "histogram2d"
           }
          ],
          "histogram2dcontour": [
           {
            "colorbar": {
             "outlinewidth": 0,
             "ticks": ""
            },
            "colorscale": [
             [
              0,
              "#0d0887"
             ],
             [
              0.1111111111111111,
              "#46039f"
             ],
             [
              0.2222222222222222,
              "#7201a8"
             ],
             [
              0.3333333333333333,
              "#9c179e"
             ],
             [
              0.4444444444444444,
              "#bd3786"
             ],
             [
              0.5555555555555556,
              "#d8576b"
             ],
             [
              0.6666666666666666,
              "#ed7953"
             ],
             [
              0.7777777777777778,
              "#fb9f3a"
             ],
             [
              0.8888888888888888,
              "#fdca26"
             ],
             [
              1,
              "#f0f921"
             ]
            ],
            "type": "histogram2dcontour"
           }
          ],
          "mesh3d": [
           {
            "colorbar": {
             "outlinewidth": 0,
             "ticks": ""
            },
            "type": "mesh3d"
           }
          ],
          "parcoords": [
           {
            "line": {
             "colorbar": {
              "outlinewidth": 0,
              "ticks": ""
             }
            },
            "type": "parcoords"
           }
          ],
          "pie": [
           {
            "automargin": true,
            "type": "pie"
           }
          ],
          "scatter": [
           {
            "fillpattern": {
             "fillmode": "overlay",
             "size": 10,
             "solidity": 0.2
            },
            "type": "scatter"
           }
          ],
          "scatter3d": [
           {
            "line": {
             "colorbar": {
              "outlinewidth": 0,
              "ticks": ""
             }
            },
            "marker": {
             "colorbar": {
              "outlinewidth": 0,
              "ticks": ""
             }
            },
            "type": "scatter3d"
           }
          ],
          "scattercarpet": [
           {
            "marker": {
             "colorbar": {
              "outlinewidth": 0,
              "ticks": ""
             }
            },
            "type": "scattercarpet"
           }
          ],
          "scattergeo": [
           {
            "marker": {
             "colorbar": {
              "outlinewidth": 0,
              "ticks": ""
             }
            },
            "type": "scattergeo"
           }
          ],
          "scattergl": [
           {
            "marker": {
             "colorbar": {
              "outlinewidth": 0,
              "ticks": ""
             }
            },
            "type": "scattergl"
           }
          ],
          "scattermapbox": [
           {
            "marker": {
             "colorbar": {
              "outlinewidth": 0,
              "ticks": ""
             }
            },
            "type": "scattermapbox"
           }
          ],
          "scatterpolar": [
           {
            "marker": {
             "colorbar": {
              "outlinewidth": 0,
              "ticks": ""
             }
            },
            "type": "scatterpolar"
           }
          ],
          "scatterpolargl": [
           {
            "marker": {
             "colorbar": {
              "outlinewidth": 0,
              "ticks": ""
             }
            },
            "type": "scatterpolargl"
           }
          ],
          "scatterternary": [
           {
            "marker": {
             "colorbar": {
              "outlinewidth": 0,
              "ticks": ""
             }
            },
            "type": "scatterternary"
           }
          ],
          "surface": [
           {
            "colorbar": {
             "outlinewidth": 0,
             "ticks": ""
            },
            "colorscale": [
             [
              0,
              "#0d0887"
             ],
             [
              0.1111111111111111,
              "#46039f"
             ],
             [
              0.2222222222222222,
              "#7201a8"
             ],
             [
              0.3333333333333333,
              "#9c179e"
             ],
             [
              0.4444444444444444,
              "#bd3786"
             ],
             [
              0.5555555555555556,
              "#d8576b"
             ],
             [
              0.6666666666666666,
              "#ed7953"
             ],
             [
              0.7777777777777778,
              "#fb9f3a"
             ],
             [
              0.8888888888888888,
              "#fdca26"
             ],
             [
              1,
              "#f0f921"
             ]
            ],
            "type": "surface"
           }
          ],
          "table": [
           {
            "cells": {
             "fill": {
              "color": "#EBF0F8"
             },
             "line": {
              "color": "white"
             }
            },
            "header": {
             "fill": {
              "color": "#C8D4E3"
             },
             "line": {
              "color": "white"
             }
            },
            "type": "table"
           }
          ]
         },
         "layout": {
          "annotationdefaults": {
           "arrowcolor": "#2a3f5f",
           "arrowhead": 0,
           "arrowwidth": 1
          },
          "autotypenumbers": "strict",
          "coloraxis": {
           "colorbar": {
            "outlinewidth": 0,
            "ticks": ""
           }
          },
          "colorscale": {
           "diverging": [
            [
             0,
             "#8e0152"
            ],
            [
             0.1,
             "#c51b7d"
            ],
            [
             0.2,
             "#de77ae"
            ],
            [
             0.3,
             "#f1b6da"
            ],
            [
             0.4,
             "#fde0ef"
            ],
            [
             0.5,
             "#f7f7f7"
            ],
            [
             0.6,
             "#e6f5d0"
            ],
            [
             0.7,
             "#b8e186"
            ],
            [
             0.8,
             "#7fbc41"
            ],
            [
             0.9,
             "#4d9221"
            ],
            [
             1,
             "#276419"
            ]
           ],
           "sequential": [
            [
             0,
             "#0d0887"
            ],
            [
             0.1111111111111111,
             "#46039f"
            ],
            [
             0.2222222222222222,
             "#7201a8"
            ],
            [
             0.3333333333333333,
             "#9c179e"
            ],
            [
             0.4444444444444444,
             "#bd3786"
            ],
            [
             0.5555555555555556,
             "#d8576b"
            ],
            [
             0.6666666666666666,
             "#ed7953"
            ],
            [
             0.7777777777777778,
             "#fb9f3a"
            ],
            [
             0.8888888888888888,
             "#fdca26"
            ],
            [
             1,
             "#f0f921"
            ]
           ],
           "sequentialminus": [
            [
             0,
             "#0d0887"
            ],
            [
             0.1111111111111111,
             "#46039f"
            ],
            [
             0.2222222222222222,
             "#7201a8"
            ],
            [
             0.3333333333333333,
             "#9c179e"
            ],
            [
             0.4444444444444444,
             "#bd3786"
            ],
            [
             0.5555555555555556,
             "#d8576b"
            ],
            [
             0.6666666666666666,
             "#ed7953"
            ],
            [
             0.7777777777777778,
             "#fb9f3a"
            ],
            [
             0.8888888888888888,
             "#fdca26"
            ],
            [
             1,
             "#f0f921"
            ]
           ]
          },
          "colorway": [
           "#636efa",
           "#EF553B",
           "#00cc96",
           "#ab63fa",
           "#FFA15A",
           "#19d3f3",
           "#FF6692",
           "#B6E880",
           "#FF97FF",
           "#FECB52"
          ],
          "font": {
           "color": "#2a3f5f"
          },
          "geo": {
           "bgcolor": "white",
           "lakecolor": "white",
           "landcolor": "#E5ECF6",
           "showlakes": true,
           "showland": true,
           "subunitcolor": "white"
          },
          "hoverlabel": {
           "align": "left"
          },
          "hovermode": "closest",
          "mapbox": {
           "style": "light"
          },
          "paper_bgcolor": "white",
          "plot_bgcolor": "#E5ECF6",
          "polar": {
           "angularaxis": {
            "gridcolor": "white",
            "linecolor": "white",
            "ticks": ""
           },
           "bgcolor": "#E5ECF6",
           "radialaxis": {
            "gridcolor": "white",
            "linecolor": "white",
            "ticks": ""
           }
          },
          "scene": {
           "xaxis": {
            "backgroundcolor": "#E5ECF6",
            "gridcolor": "white",
            "gridwidth": 2,
            "linecolor": "white",
            "showbackground": true,
            "ticks": "",
            "zerolinecolor": "white"
           },
           "yaxis": {
            "backgroundcolor": "#E5ECF6",
            "gridcolor": "white",
            "gridwidth": 2,
            "linecolor": "white",
            "showbackground": true,
            "ticks": "",
            "zerolinecolor": "white"
           },
           "zaxis": {
            "backgroundcolor": "#E5ECF6",
            "gridcolor": "white",
            "gridwidth": 2,
            "linecolor": "white",
            "showbackground": true,
            "ticks": "",
            "zerolinecolor": "white"
           }
          },
          "shapedefaults": {
           "line": {
            "color": "#2a3f5f"
           }
          },
          "ternary": {
           "aaxis": {
            "gridcolor": "white",
            "linecolor": "white",
            "ticks": ""
           },
           "baxis": {
            "gridcolor": "white",
            "linecolor": "white",
            "ticks": ""
           },
           "bgcolor": "#E5ECF6",
           "caxis": {
            "gridcolor": "white",
            "linecolor": "white",
            "ticks": ""
           }
          },
          "title": {
           "x": 0.05
          },
          "xaxis": {
           "automargin": true,
           "gridcolor": "white",
           "linecolor": "white",
           "ticks": "",
           "title": {
            "standoff": 15
           },
           "zerolinecolor": "white",
           "zerolinewidth": 2
          },
          "yaxis": {
           "automargin": true,
           "gridcolor": "white",
           "linecolor": "white",
           "ticks": "",
           "title": {
            "standoff": 15
           },
           "zerolinecolor": "white",
           "zerolinewidth": 2
          }
         }
        },
        "title": {
         "text": "Top 20 hashtags in the covid tweets"
        },
        "xaxis": {
         "anchor": "y",
         "domain": [
          0,
          1
         ],
         "title": {
          "text": "hashtags"
         }
        },
        "yaxis": {
         "anchor": "x",
         "categoryarray": [
          "CoronaVirus",
          "SocialDistancing",
          "COVID19 coronavirus",
          "TogetherAtHome",
          "StaySafe",
          "StayHome",
          "pandemic",
          "coronavirus COVID19",
          "COVIDIOTS",
          "SARSCoV2",
          "covid",
          "Covid",
          "COVIDー19",
          "Covid_19",
          "Coronavirus",
          "covid19",
          "COVID",
          "Covid19",
          "coronavirus",
          "COVID19"
         ],
         "categoryorder": "array",
         "domain": [
          0,
          1
         ],
         "title": {
          "text": "index"
         }
        }
       }
      },
      "text/html": [
       "<div>                            <div id=\"2a65bac2-5954-4f52-973d-693d34817a3a\" class=\"plotly-graph-div\" style=\"height:525px; width:100%;\"></div>            <script type=\"text/javascript\">                require([\"plotly\"], function(Plotly) {                    window.PLOTLYENV=window.PLOTLYENV || {};                                    if (document.getElementById(\"2a65bac2-5954-4f52-973d-693d34817a3a\")) {                    Plotly.newPlot(                        \"2a65bac2-5954-4f52-973d-693d34817a3a\",                        [{\"alignmentgroup\":\"True\",\"hovertemplate\":\"index=%{y}<br>hashtags=%{text}<extra></extra>\",\"legendgroup\":\"COVID19\",\"marker\":{\"color\":\"#636efa\",\"pattern\":{\"shape\":\"\"}},\"name\":\"COVID19\",\"offsetgroup\":\"COVID19\",\"orientation\":\"h\",\"showlegend\":true,\"text\":[58516.0],\"textposition\":\"auto\",\"x\":[58516],\"xaxis\":\"x\",\"y\":[\"COVID19\"],\"yaxis\":\"y\",\"type\":\"bar\"},{\"alignmentgroup\":\"True\",\"hovertemplate\":\"index=%{y}<br>hashtags=%{text}<extra></extra>\",\"legendgroup\":\"coronavirus\",\"marker\":{\"color\":\"#EF553B\",\"pattern\":{\"shape\":\"\"}},\"name\":\"coronavirus\",\"offsetgroup\":\"coronavirus\",\"orientation\":\"h\",\"showlegend\":true,\"text\":[13002.0],\"textposition\":\"auto\",\"x\":[13002],\"xaxis\":\"x\",\"y\":[\"coronavirus\"],\"yaxis\":\"y\",\"type\":\"bar\"},{\"alignmentgroup\":\"True\",\"hovertemplate\":\"index=%{y}<br>hashtags=%{text}<extra></extra>\",\"legendgroup\":\"Covid19\",\"marker\":{\"color\":\"#00cc96\",\"pattern\":{\"shape\":\"\"}},\"name\":\"Covid19\",\"offsetgroup\":\"Covid19\",\"orientation\":\"h\",\"showlegend\":true,\"text\":[8020.0],\"textposition\":\"auto\",\"x\":[8020],\"xaxis\":\"x\",\"y\":[\"Covid19\"],\"yaxis\":\"y\",\"type\":\"bar\"},{\"alignmentgroup\":\"True\",\"hovertemplate\":\"index=%{y}<br>hashtags=%{text}<extra></extra>\",\"legendgroup\":\"COVID\",\"marker\":{\"color\":\"#ab63fa\",\"pattern\":{\"shape\":\"\"}},\"name\":\"COVID\",\"offsetgroup\":\"COVID\",\"orientation\":\"h\",\"showlegend\":true,\"text\":[4649.0],\"textposition\":\"auto\",\"x\":[4649],\"xaxis\":\"x\",\"y\":[\"COVID\"],\"yaxis\":\"y\",\"type\":\"bar\"},{\"alignmentgroup\":\"True\",\"hovertemplate\":\"index=%{y}<br>hashtags=%{text}<extra></extra>\",\"legendgroup\":\"covid19\",\"marker\":{\"color\":\"#FFA15A\",\"pattern\":{\"shape\":\"\"}},\"name\":\"covid19\",\"offsetgroup\":\"covid19\",\"orientation\":\"h\",\"showlegend\":true,\"text\":[4578.0],\"textposition\":\"auto\",\"x\":[4578],\"xaxis\":\"x\",\"y\":[\"covid19\"],\"yaxis\":\"y\",\"type\":\"bar\"},{\"alignmentgroup\":\"True\",\"hovertemplate\":\"index=%{y}<br>hashtags=%{text}<extra></extra>\",\"legendgroup\":\"Coronavirus\",\"marker\":{\"color\":\"#19d3f3\",\"pattern\":{\"shape\":\"\"}},\"name\":\"Coronavirus\",\"offsetgroup\":\"Coronavirus\",\"orientation\":\"h\",\"showlegend\":true,\"text\":[3484.0],\"textposition\":\"auto\",\"x\":[3484],\"xaxis\":\"x\",\"y\":[\"Coronavirus\"],\"yaxis\":\"y\",\"type\":\"bar\"},{\"alignmentgroup\":\"True\",\"hovertemplate\":\"index=%{y}<br>hashtags=%{text}<extra></extra>\",\"legendgroup\":\"Covid_19\",\"marker\":{\"color\":\"#FF6692\",\"pattern\":{\"shape\":\"\"}},\"name\":\"Covid_19\",\"offsetgroup\":\"Covid_19\",\"orientation\":\"h\",\"showlegend\":true,\"text\":[3380.0],\"textposition\":\"auto\",\"x\":[3380],\"xaxis\":\"x\",\"y\":[\"Covid_19\"],\"yaxis\":\"y\",\"type\":\"bar\"},{\"alignmentgroup\":\"True\",\"hovertemplate\":\"index=%{y}<br>hashtags=%{text}<extra></extra>\",\"legendgroup\":\"COVID\\u30fc19\",\"marker\":{\"color\":\"#B6E880\",\"pattern\":{\"shape\":\"\"}},\"name\":\"COVID\\u30fc19\",\"offsetgroup\":\"COVID\\u30fc19\",\"orientation\":\"h\",\"showlegend\":true,\"text\":[2937.0],\"textposition\":\"auto\",\"x\":[2937],\"xaxis\":\"x\",\"y\":[\"COVID\\u30fc19\"],\"yaxis\":\"y\",\"type\":\"bar\"},{\"alignmentgroup\":\"True\",\"hovertemplate\":\"index=%{y}<br>hashtags=%{text}<extra></extra>\",\"legendgroup\":\"Covid\",\"marker\":{\"color\":\"#FF97FF\",\"pattern\":{\"shape\":\"\"}},\"name\":\"Covid\",\"offsetgroup\":\"Covid\",\"orientation\":\"h\",\"showlegend\":true,\"text\":[1853.0],\"textposition\":\"auto\",\"x\":[1853],\"xaxis\":\"x\",\"y\":[\"Covid\"],\"yaxis\":\"y\",\"type\":\"bar\"},{\"alignmentgroup\":\"True\",\"hovertemplate\":\"index=%{y}<br>hashtags=%{text}<extra></extra>\",\"legendgroup\":\"covid\",\"marker\":{\"color\":\"#FECB52\",\"pattern\":{\"shape\":\"\"}},\"name\":\"covid\",\"offsetgroup\":\"covid\",\"orientation\":\"h\",\"showlegend\":true,\"text\":[1373.0],\"textposition\":\"auto\",\"x\":[1373],\"xaxis\":\"x\",\"y\":[\"covid\"],\"yaxis\":\"y\",\"type\":\"bar\"},{\"alignmentgroup\":\"True\",\"hovertemplate\":\"index=%{y}<br>hashtags=%{text}<extra></extra>\",\"legendgroup\":\"SARSCoV2\",\"marker\":{\"color\":\"#636efa\",\"pattern\":{\"shape\":\"\"}},\"name\":\"SARSCoV2\",\"offsetgroup\":\"SARSCoV2\",\"orientation\":\"h\",\"showlegend\":true,\"text\":[1069.0],\"textposition\":\"auto\",\"x\":[1069],\"xaxis\":\"x\",\"y\":[\"SARSCoV2\"],\"yaxis\":\"y\",\"type\":\"bar\"},{\"alignmentgroup\":\"True\",\"hovertemplate\":\"index=%{y}<br>hashtags=%{text}<extra></extra>\",\"legendgroup\":\"COVIDIOTS\",\"marker\":{\"color\":\"#EF553B\",\"pattern\":{\"shape\":\"\"}},\"name\":\"COVIDIOTS\",\"offsetgroup\":\"COVIDIOTS\",\"orientation\":\"h\",\"showlegend\":true,\"text\":[948.0],\"textposition\":\"auto\",\"x\":[948],\"xaxis\":\"x\",\"y\":[\"COVIDIOTS\"],\"yaxis\":\"y\",\"type\":\"bar\"},{\"alignmentgroup\":\"True\",\"hovertemplate\":\"index=%{y}<br>hashtags=%{text}<extra></extra>\",\"legendgroup\":\"coronavirus COVID19\",\"marker\":{\"color\":\"#00cc96\",\"pattern\":{\"shape\":\"\"}},\"name\":\"coronavirus COVID19\",\"offsetgroup\":\"coronavirus COVID19\",\"orientation\":\"h\",\"showlegend\":true,\"text\":[815.0],\"textposition\":\"auto\",\"x\":[815],\"xaxis\":\"x\",\"y\":[\"coronavirus COVID19\"],\"yaxis\":\"y\",\"type\":\"bar\"},{\"alignmentgroup\":\"True\",\"hovertemplate\":\"index=%{y}<br>hashtags=%{text}<extra></extra>\",\"legendgroup\":\"pandemic\",\"marker\":{\"color\":\"#ab63fa\",\"pattern\":{\"shape\":\"\"}},\"name\":\"pandemic\",\"offsetgroup\":\"pandemic\",\"orientation\":\"h\",\"showlegend\":true,\"text\":[783.0],\"textposition\":\"auto\",\"x\":[783],\"xaxis\":\"x\",\"y\":[\"pandemic\"],\"yaxis\":\"y\",\"type\":\"bar\"},{\"alignmentgroup\":\"True\",\"hovertemplate\":\"index=%{y}<br>hashtags=%{text}<extra></extra>\",\"legendgroup\":\"StayHome\",\"marker\":{\"color\":\"#FFA15A\",\"pattern\":{\"shape\":\"\"}},\"name\":\"StayHome\",\"offsetgroup\":\"StayHome\",\"orientation\":\"h\",\"showlegend\":true,\"text\":[680.0],\"textposition\":\"auto\",\"x\":[680],\"xaxis\":\"x\",\"y\":[\"StayHome\"],\"yaxis\":\"y\",\"type\":\"bar\"},{\"alignmentgroup\":\"True\",\"hovertemplate\":\"index=%{y}<br>hashtags=%{text}<extra></extra>\",\"legendgroup\":\"StaySafe\",\"marker\":{\"color\":\"#19d3f3\",\"pattern\":{\"shape\":\"\"}},\"name\":\"StaySafe\",\"offsetgroup\":\"StaySafe\",\"orientation\":\"h\",\"showlegend\":true,\"text\":[679.0],\"textposition\":\"auto\",\"x\":[679],\"xaxis\":\"x\",\"y\":[\"StaySafe\"],\"yaxis\":\"y\",\"type\":\"bar\"},{\"alignmentgroup\":\"True\",\"hovertemplate\":\"index=%{y}<br>hashtags=%{text}<extra></extra>\",\"legendgroup\":\"TogetherAtHome\",\"marker\":{\"color\":\"#FF6692\",\"pattern\":{\"shape\":\"\"}},\"name\":\"TogetherAtHome\",\"offsetgroup\":\"TogetherAtHome\",\"orientation\":\"h\",\"showlegend\":true,\"text\":[605.0],\"textposition\":\"auto\",\"x\":[605],\"xaxis\":\"x\",\"y\":[\"TogetherAtHome\"],\"yaxis\":\"y\",\"type\":\"bar\"},{\"alignmentgroup\":\"True\",\"hovertemplate\":\"index=%{y}<br>hashtags=%{text}<extra></extra>\",\"legendgroup\":\"COVID19 coronavirus\",\"marker\":{\"color\":\"#B6E880\",\"pattern\":{\"shape\":\"\"}},\"name\":\"COVID19 coronavirus\",\"offsetgroup\":\"COVID19 coronavirus\",\"orientation\":\"h\",\"showlegend\":true,\"text\":[485.0],\"textposition\":\"auto\",\"x\":[485],\"xaxis\":\"x\",\"y\":[\"COVID19 coronavirus\"],\"yaxis\":\"y\",\"type\":\"bar\"},{\"alignmentgroup\":\"True\",\"hovertemplate\":\"index=%{y}<br>hashtags=%{text}<extra></extra>\",\"legendgroup\":\"SocialDistancing\",\"marker\":{\"color\":\"#FF97FF\",\"pattern\":{\"shape\":\"\"}},\"name\":\"SocialDistancing\",\"offsetgroup\":\"SocialDistancing\",\"orientation\":\"h\",\"showlegend\":true,\"text\":[462.0],\"textposition\":\"auto\",\"x\":[462],\"xaxis\":\"x\",\"y\":[\"SocialDistancing\"],\"yaxis\":\"y\",\"type\":\"bar\"},{\"alignmentgroup\":\"True\",\"hovertemplate\":\"index=%{y}<br>hashtags=%{text}<extra></extra>\",\"legendgroup\":\"CoronaVirus\",\"marker\":{\"color\":\"#FECB52\",\"pattern\":{\"shape\":\"\"}},\"name\":\"CoronaVirus\",\"offsetgroup\":\"CoronaVirus\",\"orientation\":\"h\",\"showlegend\":true,\"text\":[377.0],\"textposition\":\"auto\",\"x\":[377],\"xaxis\":\"x\",\"y\":[\"CoronaVirus\"],\"yaxis\":\"y\",\"type\":\"bar\"}],                        {\"template\":{\"data\":{\"histogram2dcontour\":[{\"type\":\"histogram2dcontour\",\"colorbar\":{\"outlinewidth\":0,\"ticks\":\"\"},\"colorscale\":[[0.0,\"#0d0887\"],[0.1111111111111111,\"#46039f\"],[0.2222222222222222,\"#7201a8\"],[0.3333333333333333,\"#9c179e\"],[0.4444444444444444,\"#bd3786\"],[0.5555555555555556,\"#d8576b\"],[0.6666666666666666,\"#ed7953\"],[0.7777777777777778,\"#fb9f3a\"],[0.8888888888888888,\"#fdca26\"],[1.0,\"#f0f921\"]]}],\"choropleth\":[{\"type\":\"choropleth\",\"colorbar\":{\"outlinewidth\":0,\"ticks\":\"\"}}],\"histogram2d\":[{\"type\":\"histogram2d\",\"colorbar\":{\"outlinewidth\":0,\"ticks\":\"\"},\"colorscale\":[[0.0,\"#0d0887\"],[0.1111111111111111,\"#46039f\"],[0.2222222222222222,\"#7201a8\"],[0.3333333333333333,\"#9c179e\"],[0.4444444444444444,\"#bd3786\"],[0.5555555555555556,\"#d8576b\"],[0.6666666666666666,\"#ed7953\"],[0.7777777777777778,\"#fb9f3a\"],[0.8888888888888888,\"#fdca26\"],[1.0,\"#f0f921\"]]}],\"heatmap\":[{\"type\":\"heatmap\",\"colorbar\":{\"outlinewidth\":0,\"ticks\":\"\"},\"colorscale\":[[0.0,\"#0d0887\"],[0.1111111111111111,\"#46039f\"],[0.2222222222222222,\"#7201a8\"],[0.3333333333333333,\"#9c179e\"],[0.4444444444444444,\"#bd3786\"],[0.5555555555555556,\"#d8576b\"],[0.6666666666666666,\"#ed7953\"],[0.7777777777777778,\"#fb9f3a\"],[0.8888888888888888,\"#fdca26\"],[1.0,\"#f0f921\"]]}],\"heatmapgl\":[{\"type\":\"heatmapgl\",\"colorbar\":{\"outlinewidth\":0,\"ticks\":\"\"},\"colorscale\":[[0.0,\"#0d0887\"],[0.1111111111111111,\"#46039f\"],[0.2222222222222222,\"#7201a8\"],[0.3333333333333333,\"#9c179e\"],[0.4444444444444444,\"#bd3786\"],[0.5555555555555556,\"#d8576b\"],[0.6666666666666666,\"#ed7953\"],[0.7777777777777778,\"#fb9f3a\"],[0.8888888888888888,\"#fdca26\"],[1.0,\"#f0f921\"]]}],\"contourcarpet\":[{\"type\":\"contourcarpet\",\"colorbar\":{\"outlinewidth\":0,\"ticks\":\"\"}}],\"contour\":[{\"type\":\"contour\",\"colorbar\":{\"outlinewidth\":0,\"ticks\":\"\"},\"colorscale\":[[0.0,\"#0d0887\"],[0.1111111111111111,\"#46039f\"],[0.2222222222222222,\"#7201a8\"],[0.3333333333333333,\"#9c179e\"],[0.4444444444444444,\"#bd3786\"],[0.5555555555555556,\"#d8576b\"],[0.6666666666666666,\"#ed7953\"],[0.7777777777777778,\"#fb9f3a\"],[0.8888888888888888,\"#fdca26\"],[1.0,\"#f0f921\"]]}],\"surface\":[{\"type\":\"surface\",\"colorbar\":{\"outlinewidth\":0,\"ticks\":\"\"},\"colorscale\":[[0.0,\"#0d0887\"],[0.1111111111111111,\"#46039f\"],[0.2222222222222222,\"#7201a8\"],[0.3333333333333333,\"#9c179e\"],[0.4444444444444444,\"#bd3786\"],[0.5555555555555556,\"#d8576b\"],[0.6666666666666666,\"#ed7953\"],[0.7777777777777778,\"#fb9f3a\"],[0.8888888888888888,\"#fdca26\"],[1.0,\"#f0f921\"]]}],\"mesh3d\":[{\"type\":\"mesh3d\",\"colorbar\":{\"outlinewidth\":0,\"ticks\":\"\"}}],\"scatter\":[{\"fillpattern\":{\"fillmode\":\"overlay\",\"size\":10,\"solidity\":0.2},\"type\":\"scatter\"}],\"parcoords\":[{\"type\":\"parcoords\",\"line\":{\"colorbar\":{\"outlinewidth\":0,\"ticks\":\"\"}}}],\"scatterpolargl\":[{\"type\":\"scatterpolargl\",\"marker\":{\"colorbar\":{\"outlinewidth\":0,\"ticks\":\"\"}}}],\"bar\":[{\"error_x\":{\"color\":\"#2a3f5f\"},\"error_y\":{\"color\":\"#2a3f5f\"},\"marker\":{\"line\":{\"color\":\"#E5ECF6\",\"width\":0.5},\"pattern\":{\"fillmode\":\"overlay\",\"size\":10,\"solidity\":0.2}},\"type\":\"bar\"}],\"scattergeo\":[{\"type\":\"scattergeo\",\"marker\":{\"colorbar\":{\"outlinewidth\":0,\"ticks\":\"\"}}}],\"scatterpolar\":[{\"type\":\"scatterpolar\",\"marker\":{\"colorbar\":{\"outlinewidth\":0,\"ticks\":\"\"}}}],\"histogram\":[{\"marker\":{\"pattern\":{\"fillmode\":\"overlay\",\"size\":10,\"solidity\":0.2}},\"type\":\"histogram\"}],\"scattergl\":[{\"type\":\"scattergl\",\"marker\":{\"colorbar\":{\"outlinewidth\":0,\"ticks\":\"\"}}}],\"scatter3d\":[{\"type\":\"scatter3d\",\"line\":{\"colorbar\":{\"outlinewidth\":0,\"ticks\":\"\"}},\"marker\":{\"colorbar\":{\"outlinewidth\":0,\"ticks\":\"\"}}}],\"scattermapbox\":[{\"type\":\"scattermapbox\",\"marker\":{\"colorbar\":{\"outlinewidth\":0,\"ticks\":\"\"}}}],\"scatterternary\":[{\"type\":\"scatterternary\",\"marker\":{\"colorbar\":{\"outlinewidth\":0,\"ticks\":\"\"}}}],\"scattercarpet\":[{\"type\":\"scattercarpet\",\"marker\":{\"colorbar\":{\"outlinewidth\":0,\"ticks\":\"\"}}}],\"carpet\":[{\"aaxis\":{\"endlinecolor\":\"#2a3f5f\",\"gridcolor\":\"white\",\"linecolor\":\"white\",\"minorgridcolor\":\"white\",\"startlinecolor\":\"#2a3f5f\"},\"baxis\":{\"endlinecolor\":\"#2a3f5f\",\"gridcolor\":\"white\",\"linecolor\":\"white\",\"minorgridcolor\":\"white\",\"startlinecolor\":\"#2a3f5f\"},\"type\":\"carpet\"}],\"table\":[{\"cells\":{\"fill\":{\"color\":\"#EBF0F8\"},\"line\":{\"color\":\"white\"}},\"header\":{\"fill\":{\"color\":\"#C8D4E3\"},\"line\":{\"color\":\"white\"}},\"type\":\"table\"}],\"barpolar\":[{\"marker\":{\"line\":{\"color\":\"#E5ECF6\",\"width\":0.5},\"pattern\":{\"fillmode\":\"overlay\",\"size\":10,\"solidity\":0.2}},\"type\":\"barpolar\"}],\"pie\":[{\"automargin\":true,\"type\":\"pie\"}]},\"layout\":{\"autotypenumbers\":\"strict\",\"colorway\":[\"#636efa\",\"#EF553B\",\"#00cc96\",\"#ab63fa\",\"#FFA15A\",\"#19d3f3\",\"#FF6692\",\"#B6E880\",\"#FF97FF\",\"#FECB52\"],\"font\":{\"color\":\"#2a3f5f\"},\"hovermode\":\"closest\",\"hoverlabel\":{\"align\":\"left\"},\"paper_bgcolor\":\"white\",\"plot_bgcolor\":\"#E5ECF6\",\"polar\":{\"bgcolor\":\"#E5ECF6\",\"angularaxis\":{\"gridcolor\":\"white\",\"linecolor\":\"white\",\"ticks\":\"\"},\"radialaxis\":{\"gridcolor\":\"white\",\"linecolor\":\"white\",\"ticks\":\"\"}},\"ternary\":{\"bgcolor\":\"#E5ECF6\",\"aaxis\":{\"gridcolor\":\"white\",\"linecolor\":\"white\",\"ticks\":\"\"},\"baxis\":{\"gridcolor\":\"white\",\"linecolor\":\"white\",\"ticks\":\"\"},\"caxis\":{\"gridcolor\":\"white\",\"linecolor\":\"white\",\"ticks\":\"\"}},\"coloraxis\":{\"colorbar\":{\"outlinewidth\":0,\"ticks\":\"\"}},\"colorscale\":{\"sequential\":[[0.0,\"#0d0887\"],[0.1111111111111111,\"#46039f\"],[0.2222222222222222,\"#7201a8\"],[0.3333333333333333,\"#9c179e\"],[0.4444444444444444,\"#bd3786\"],[0.5555555555555556,\"#d8576b\"],[0.6666666666666666,\"#ed7953\"],[0.7777777777777778,\"#fb9f3a\"],[0.8888888888888888,\"#fdca26\"],[1.0,\"#f0f921\"]],\"sequentialminus\":[[0.0,\"#0d0887\"],[0.1111111111111111,\"#46039f\"],[0.2222222222222222,\"#7201a8\"],[0.3333333333333333,\"#9c179e\"],[0.4444444444444444,\"#bd3786\"],[0.5555555555555556,\"#d8576b\"],[0.6666666666666666,\"#ed7953\"],[0.7777777777777778,\"#fb9f3a\"],[0.8888888888888888,\"#fdca26\"],[1.0,\"#f0f921\"]],\"diverging\":[[0,\"#8e0152\"],[0.1,\"#c51b7d\"],[0.2,\"#de77ae\"],[0.3,\"#f1b6da\"],[0.4,\"#fde0ef\"],[0.5,\"#f7f7f7\"],[0.6,\"#e6f5d0\"],[0.7,\"#b8e186\"],[0.8,\"#7fbc41\"],[0.9,\"#4d9221\"],[1,\"#276419\"]]},\"xaxis\":{\"gridcolor\":\"white\",\"linecolor\":\"white\",\"ticks\":\"\",\"title\":{\"standoff\":15},\"zerolinecolor\":\"white\",\"automargin\":true,\"zerolinewidth\":2},\"yaxis\":{\"gridcolor\":\"white\",\"linecolor\":\"white\",\"ticks\":\"\",\"title\":{\"standoff\":15},\"zerolinecolor\":\"white\",\"automargin\":true,\"zerolinewidth\":2},\"scene\":{\"xaxis\":{\"backgroundcolor\":\"#E5ECF6\",\"gridcolor\":\"white\",\"linecolor\":\"white\",\"showbackground\":true,\"ticks\":\"\",\"zerolinecolor\":\"white\",\"gridwidth\":2},\"yaxis\":{\"backgroundcolor\":\"#E5ECF6\",\"gridcolor\":\"white\",\"linecolor\":\"white\",\"showbackground\":true,\"ticks\":\"\",\"zerolinecolor\":\"white\",\"gridwidth\":2},\"zaxis\":{\"backgroundcolor\":\"#E5ECF6\",\"gridcolor\":\"white\",\"linecolor\":\"white\",\"showbackground\":true,\"ticks\":\"\",\"zerolinecolor\":\"white\",\"gridwidth\":2}},\"shapedefaults\":{\"line\":{\"color\":\"#2a3f5f\"}},\"annotationdefaults\":{\"arrowcolor\":\"#2a3f5f\",\"arrowhead\":0,\"arrowwidth\":1},\"geo\":{\"bgcolor\":\"white\",\"landcolor\":\"#E5ECF6\",\"subunitcolor\":\"white\",\"showland\":true,\"showlakes\":true,\"lakecolor\":\"white\"},\"title\":{\"x\":0.05},\"mapbox\":{\"style\":\"light\"}}},\"xaxis\":{\"anchor\":\"y\",\"domain\":[0.0,1.0],\"title\":{\"text\":\"hashtags\"}},\"yaxis\":{\"anchor\":\"x\",\"domain\":[0.0,1.0],\"title\":{\"text\":\"index\"},\"categoryorder\":\"array\",\"categoryarray\":[\"CoronaVirus\",\"SocialDistancing\",\"COVID19 coronavirus\",\"TogetherAtHome\",\"StaySafe\",\"StayHome\",\"pandemic\",\"coronavirus COVID19\",\"COVIDIOTS\",\"SARSCoV2\",\"covid\",\"Covid\",\"COVID\\u30fc19\",\"Covid_19\",\"Coronavirus\",\"covid19\",\"COVID\",\"Covid19\",\"coronavirus\",\"COVID19\"]},\"legend\":{\"title\":{\"text\":\"index\"},\"tracegroupgap\":0},\"title\":{\"text\":\"Top 20 hashtags in the covid tweets\"},\"barmode\":\"relative\"},                        {\"responsive\": true}                    ).then(function(){\n",
       "                            \n",
       "var gd = document.getElementById('2a65bac2-5954-4f52-973d-693d34817a3a');\n",
       "var x = new MutationObserver(function (mutations, observer) {{\n",
       "        var display = window.getComputedStyle(gd).display;\n",
       "        if (!display || display === 'none') {{\n",
       "            console.log([gd, 'removed!']);\n",
       "            Plotly.purge(gd);\n",
       "            observer.disconnect();\n",
       "        }}\n",
       "}});\n",
       "\n",
       "// Listen for the removal of the full notebook cells\n",
       "var notebookContainer = gd.closest('#notebook-container');\n",
       "if (notebookContainer) {{\n",
       "    x.observe(notebookContainer, {childList: true});\n",
       "}}\n",
       "\n",
       "// Listen for the clearing of the current output cell\n",
       "var outputEl = gd.closest('.output');\n",
       "if (outputEl) {{\n",
       "    x.observe(outputEl, {childList: true});\n",
       "}}\n",
       "\n",
       "                        })                };                });            </script>        </div>"
      ]
     },
     "metadata": {},
     "output_type": "display_data"
    }
   ],
   "source": [
    "top_20_hashtags = train['hashtags'].value_counts()[:20].reset_index()\n",
    "fig = px.bar(top_20_hashtags, y='index', x='hashtags',color='index', text='hashtags',title='Top 20 hashtags in the covid tweets')\n",
    "fig.show()"
   ]
  },
  {
   "cell_type": "code",
   "execution_count": 93,
   "id": "12587d79",
   "metadata": {},
   "outputs": [
    {
     "data": {
      "text/plain": [
       "us             40000\n",
       "uk             40000\n",
       "canada         40000\n",
       "australia      40000\n",
       "new_zealand    40000\n",
       "ireland        39999\n",
       "Name: country, dtype: int64"
      ]
     },
     "execution_count": 93,
     "metadata": {},
     "output_type": "execute_result"
    }
   ],
   "source": [
    "train['country'].value_counts() # notice that one tweet from ireland was recorded wrong, we dropped it. "
   ]
  },
  {
   "cell_type": "code",
   "execution_count": 96,
   "id": "d193f324",
   "metadata": {},
   "outputs": [],
   "source": [
    "train['len_of_#'] = train['hashtags'].apply(lambda x: x.split()).apply(len)"
   ]
  },
  {
   "cell_type": "code",
   "execution_count": 214,
   "id": "fe492bec",
   "metadata": {},
   "outputs": [
    {
     "data": {
      "image/png": "[encoded data removed]",
      "text/plain": [
       "<Figure size 720x432 with 1 Axes>"
      ]
     },
     "metadata": {
      "needs_background": "light"
     },
     "output_type": "display_data"
    }
   ],
   "source": [
    "train['len_of_#'].plot.hist(edgecolor='white',bins=10 )\n",
    "ax = plt.gca()\n",
    "for i in ax.containers:\n",
    "    plt.bar_label(i)\n",
    "fig = plt.gcf()\n",
    "fig.set_size_inches(10,6)\n",
    "plt.title('the distribution of len_of_#')\n",
    "plt.xlabel('len_of_#');# the longest hashtag is 20 in length"
   ]
  },
  {
   "cell_type": "code",
   "execution_count": 117,
   "id": "258c10d1",
   "metadata": {},
   "outputs": [],
   "source": [
    "train['len_of_twt'] = train['text'].apply(lambda x:x.split()).apply(len)"
   ]
  },
  {
   "cell_type": "code",
   "execution_count": 216,
   "id": "60ed5c64",
   "metadata": {},
   "outputs": [
    {
     "data": {
      "image/png": "[encoded data removed]",
      "text/plain": [
       "<Figure size 720x432 with 1 Axes>"
      ]
     },
     "metadata": {
      "needs_background": "light"
     },
     "output_type": "display_data"
    }
   ],
   "source": [
    "train['len_of_twt'].plot.hist(edgecolor='white', bins=10)\n",
    "ax = plt.gca()\n",
    "for i in ax.containers:\n",
    "    plt.bar_label(i)\n",
    "fig = plt.gcf()\n",
    "fig.set_size_inches(10,6)\n",
    "plt.title('the distribution of len_of_twt')\n",
    "plt.xlabel('len_of_twt');"
   ]
  },
  {
   "cell_type": "code",
   "execution_count": 204,
   "id": "6428cbbb",
   "metadata": {},
   "outputs": [
    {
     "data": {
      "text/html": [
       "<div>\n",
       "<style scoped>\n",
       "    .dataframe tbody tr th:only-of-type {\n",
       "        vertical-align: middle;\n",
       "    }\n",
       "\n",
       "    .dataframe tbody tr th {\n",
       "        vertical-align: top;\n",
       "    }\n",
       "\n",
       "    .dataframe thead th {\n",
       "        text-align: right;\n",
       "    }\n",
       "</style>\n",
       "<table border=\"1\" class=\"dataframe\">\n",
       "  <thead>\n",
       "    <tr style=\"text-align: right;\">\n",
       "      <th></th>\n",
       "      <th>text</th>\n",
       "      <th>is_quote</th>\n",
       "      <th>is_retweet</th>\n",
       "      <th>hashtags</th>\n",
       "      <th>country</th>\n",
       "      <th>len_of_#</th>\n",
       "      <th>len_of_twt</th>\n",
       "    </tr>\n",
       "  </thead>\n",
       "  <tbody>\n",
       "    <tr>\n",
       "      <th>0</th>\n",
       "      <td>Remember the #WuhanCoronaVirus? The pandemic w...</td>\n",
       "      <td>FALSE</td>\n",
       "      <td>TRUE</td>\n",
       "      <td>WuhanCoronaVirus KillerCuomo</td>\n",
       "      <td>us</td>\n",
       "      <td>2</td>\n",
       "      <td>41</td>\n",
       "    </tr>\n",
       "    <tr>\n",
       "      <th>1</th>\n",
       "      <td>My sources @WhiteHouse say 2 tactics will be u...</td>\n",
       "      <td>FALSE</td>\n",
       "      <td>TRUE</td>\n",
       "      <td>Trump</td>\n",
       "      <td>us</td>\n",
       "      <td>1</td>\n",
       "      <td>48</td>\n",
       "    </tr>\n",
       "    <tr>\n",
       "      <th>2</th>\n",
       "      <td>I'll venture a wild guess: If you were running...</td>\n",
       "      <td>FALSE</td>\n",
       "      <td>TRUE</td>\n",
       "      <td>COVID19</td>\n",
       "      <td>us</td>\n",
       "      <td>1</td>\n",
       "      <td>50</td>\n",
       "    </tr>\n",
       "    <tr>\n",
       "      <th>3</th>\n",
       "      <td>#Pakistan (#GreenStimulus = #Nature protection...</td>\n",
       "      <td>FALSE</td>\n",
       "      <td>TRUE</td>\n",
       "      <td>Pakistan GreenStimulus Nature Green</td>\n",
       "      <td>us</td>\n",
       "      <td>4</td>\n",
       "      <td>31</td>\n",
       "    </tr>\n",
       "    <tr>\n",
       "      <th>4</th>\n",
       "      <td>🇺🇸 Pandémie de #coronavirus: 30 pasteurs améri...</td>\n",
       "      <td>FALSE</td>\n",
       "      <td>TRUE</td>\n",
       "      <td>coronavirus COVID__19 COVIDー19</td>\n",
       "      <td>us</td>\n",
       "      <td>3</td>\n",
       "      <td>35</td>\n",
       "    </tr>\n",
       "  </tbody>\n",
       "</table>\n",
       "</div>"
      ],
      "text/plain": [
       "                                                text is_quote is_retweet  \\\n",
       "0  Remember the #WuhanCoronaVirus? The pandemic w...    FALSE       TRUE   \n",
       "1  My sources @WhiteHouse say 2 tactics will be u...    FALSE       TRUE   \n",
       "2  I'll venture a wild guess: If you were running...    FALSE       TRUE   \n",
       "3  #Pakistan (#GreenStimulus = #Nature protection...    FALSE       TRUE   \n",
       "4  🇺🇸 Pandémie de #coronavirus: 30 pasteurs améri...    FALSE       TRUE   \n",
       "\n",
       "                              hashtags country  len_of_#  len_of_twt  \n",
       "0         WuhanCoronaVirus KillerCuomo      us         2          41  \n",
       "1                                Trump      us         1          48  \n",
       "2                              COVID19      us         1          50  \n",
       "3  Pakistan GreenStimulus Nature Green      us         4          31  \n",
       "4       coronavirus COVID__19 COVIDー19      us         3          35  "
      ]
     },
     "execution_count": 204,
     "metadata": {},
     "output_type": "execute_result"
    }
   ],
   "source": [
    "train.head()"
   ]
  },
  {
   "cell_type": "code",
   "execution_count": 198,
   "id": "8b7ee5a2",
   "metadata": {},
   "outputs": [
    {
     "data": {
      "image/png": "[encoded data removed]",
      "text/plain": [
       "<Figure size 1440x720 with 6 Axes>"
      ]
     },
     "metadata": {
      "needs_background": "light"
     },
     "output_type": "display_data"
    }
   ],
   "source": [
    "fig,axes = plt.subplots(2,3, figsize=(20,10), gridspec_kw=dict(hspace=0.4,wspace=0.4 ))\n",
    "country = train['country'].unique()\n",
    "color = ['red', 'purple', 'lightblue', 'green', 'black', 'orange']\n",
    "for i, ax in enumerate(axes.flat):\n",
    "    sns.histplot(train[train['country']==country[i]]['len_of_twt'], bins=10, edgecolor='white', label=country[i], ax=ax, color=color[i])\n",
    "    ax.set_title(f'the distribution of tweets length from {country[i]}') # similar distribution of tweet length among countries"
   ]
  },
  {
   "cell_type": "code",
   "execution_count": 251,
   "id": "1db8ba49",
   "metadata": {},
   "outputs": [
    {
     "data": {
      "image/png": "[encoded data removed]",
      "text/plain": [
       "<Figure size 720x432 with 1 Axes>"
      ]
     },
     "metadata": {
      "needs_background": "light"
     },
     "output_type": "display_data"
    }
   ],
   "source": [
    "sns.boxplot(data=train, x='country', y='len_of_twt')\n",
    "plt.xticks(rotation=360)\n",
    "fig = plt.gcf()\n",
    "fig.set_size_inches(10,6);"
   ]
  },
  {
   "cell_type": "code",
   "execution_count": 217,
   "id": "b8fc683a",
   "metadata": {},
   "outputs": [],
   "source": [
    "avg_twt_len = train.groupby('country').mean()['len_of_twt'].reset_index()\n",
    "avg_hashtag_len = train.groupby('country').mean()['len_of_#'].reset_index()"
   ]
  },
  {
   "cell_type": "code",
   "execution_count": 210,
   "id": "e6ad2468",
   "metadata": {},
   "outputs": [
    {
     "data": {
      "image/png": "[encoded data removed]",
      "text/plain": [
       "<Figure size 720x432 with 1 Axes>"
      ]
     },
     "metadata": {
      "needs_background": "light"
     },
     "output_type": "display_data"
    }
   ],
   "source": [
    "sns.barplot(data=avg_twt_len, x='country',y='len_of_twt')\n",
    "ax = plt.gca()\n",
    "for i in ax.containers:\n",
    "    plt.bar_label(i)\n",
    "fig = plt.gcf()\n",
    "fig.set_size_inches(10,6) # there is not too much different in terms of avg_twt_len"
   ]
  },
  {
   "cell_type": "code",
   "execution_count": 219,
   "id": "868de607",
   "metadata": {},
   "outputs": [
    {
     "data": {
      "image/png": "[encoded data removed]",
      "text/plain": [
       "<Figure size 720x432 with 1 Axes>"
      ]
     },
     "metadata": {
      "needs_background": "light"
     },
     "output_type": "display_data"
    }
   ],
   "source": [
    "sns.barplot(data=avg_hashtag_len, x='country',y='len_of_#')\n",
    "ax = plt.gca()\n",
    "for i in ax.containers:\n",
    "    plt.bar_label(i)\n",
    "fig = plt.gcf()\n",
    "fig.set_size_inches(10,6) # there is not too much different in terms of avg_twt_len"
   ]
  },
  {
   "cell_type": "code",
   "execution_count": null,
   "id": "726bde7f",
   "metadata": {},
   "outputs": [],
   "source": []
  }
 ],
 "metadata": {
  "kernelspec": {
   "display_name": "Python 3 (ipykernel)",
   "language": "python",
   "name": "python3"
  },
  "language_info": {
   "codemirror_mode": {
    "name": "ipython",
    "version": 3
   },
   "file_extension": ".py",
   "mimetype": "text/x-python",
   "name": "python",
   "nbconvert_exporter": "python",
   "pygments_lexer": "ipython3",
   "version": "3.10.1"
  }
 },
 "nbformat": 4,
 "nbformat_minor": 5
}
